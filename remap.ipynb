{
 "cells": [
  {
   "cell_type": "code",
   "execution_count": 4,
   "metadata": {},
   "outputs": [],
   "source": [
    "import numpy as np\n",
    "import torch\n",
    "import matplotlib.pyplot as plt\n",
    "import torch.nn.functional as F\n",
    "import cv2 as cv"
   ]
  },
  {
   "cell_type": "code",
   "execution_count": 5,
   "metadata": {},
   "outputs": [],
   "source": [
    "def remap(img,x,y):\n",
    "    \"\"\" a wrapper of opencv remap, adopted from \n",
    "    img:NxHxW, x:NxHxW ,y:NxHxW\n",
    "    out:NxHxW\n",
    "    Implement Scaling and Squaring\n",
    "    https://github.com/yongleex/DiffeomorphicPIV/blob/main/deformpiv.py#L180\n",
    "    \"\"\"\n",
    "    \n",
    "    # convert x,y to grid:NxHxWx2\n",
    "    grid = torch.stack((x, y), dim=-1)\n",
    "    \n",
    "    # normalize grid to (-1,1) for grid_sample\n",
    "    # under pixel coordination system, x->W, y->H\n",
    "    grid_shape = grid.shape[1:3]\n",
    "    grid[:,:,:,0] = (grid[:,:,:,0] / (grid_shape[1] - 1) - 0.5)*2\n",
    "    grid[:,:,:,1] = (grid[:,:,:,1] / (grid_shape[0] - 1) - 0.5)*2\n",
    "\n",
    "    # shape img to NxCxHxW for grid_sample\n",
    "    img = torch.unsqueeze(img, dim=1)\n",
    "    out = F.grid_sample(img, grid, mode='bicubic', align_corners=True)\n",
    "    \n",
    "    return torch.squeeze(out, dim=1)"
   ]
  },
  {
   "cell_type": "code",
   "execution_count": 6,
   "metadata": {},
   "outputs": [
    {
     "name": "stdout",
     "output_type": "stream",
     "text": [
      "(4, 440, 1024)\n",
      "(440, 1024)\n"
     ]
    }
   ],
   "source": [
    "path = 'data/0016.npy'\n",
    "\n",
    "data = np.load(path)\n",
    "print(data.shape)\n",
    "data_tensor = torch.tensor(data)\n",
    "image1 = data[0]\n",
    "image2 = data[1]\n",
    "u = data[2]\n",
    "v = data[3]\n",
    "# image1 = (image1 * 255.0).astype('uint8')\n",
    "# image2 = (image2 * 255.0).astype('uint8')\n",
    "# u = (u * 255.0).astype('uint8')\n",
    "# v = (v * 255.0).astype('uint8')\n",
    "\n",
    "# 使用Lee的方法\n",
    "image1_tensor, image2_tensor, u_tensor, v_tensor = data_tensor.split(1, 0)\n",
    "re = remap(image1_tensor, u_tensor, v_tensor)\n",
    "re = (re + image1_tensor)[0].numpy()\n",
    "# re_image = re.astype('uint8')\n",
    "\n",
    "# print(re_image.shape)\n",
    "# plt.imsave('111.png', re_image)\n",
    "print(re.shape)\n",
    "plt.imsave('111.png', re)\n",
    "\n",
    "\n",
    "# 使用opencv的方法\n",
    "# re = cv.remap(image1, u, v, interpolation = 4)\n",
    "# re = image1 + re\n",
    "# print(re.shape)\n",
    "# plt.imsave('111.png', re)\n",
    "\n",
    "# 使用Lee的方法,改变数值\n",
    "# image1_tensor, image2_tensor, u_tensor, v_tensor = data_tensor.split(1, 0)\n",
    "# # image1_tensor = image1_tensor * 20.0\n",
    "# # u_tensor = u_tensor * 10.0\n",
    "# # v_tensor = v_tensor * 10.0\n",
    "# re = remap(image1_tensor, u_tensor, v_tensor)\n",
    "# re = re[0].numpy()\n",
    "# re_image = (re * 255.0).astype('uint8')\n",
    "# print(re_image.shape)\n",
    "# plt.imsave('111.png', re_image)"
   ]
  },
  {
   "cell_type": "code",
   "execution_count": null,
   "metadata": {},
   "outputs": [],
   "source": []
  }
 ],
 "metadata": {
  "kernelspec": {
   "display_name": "CL",
   "language": "python",
   "name": "python3"
  },
  "language_info": {
   "codemirror_mode": {
    "name": "ipython",
    "version": 3
   },
   "file_extension": ".py",
   "mimetype": "text/x-python",
   "name": "python",
   "nbconvert_exporter": "python",
   "pygments_lexer": "ipython3",
   "version": "3.10.8"
  },
  "orig_nbformat": 4
 },
 "nbformat": 4,
 "nbformat_minor": 2
}
