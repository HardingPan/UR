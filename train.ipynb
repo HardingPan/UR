{
 "cells": [
  {
   "cell_type": "code",
   "execution_count": 132,
   "metadata": {},
   "outputs": [],
   "source": [
    "import torch\n",
    "import torch.nn as nn\n",
    "import torch.nn.functional as F\n",
    "import torch.optim as optim\n",
    "\n",
    "import os\n",
    "import numpy as np\n",
    "from torch.utils.data import DataLoader, Dataset"
   ]
  },
  {
   "cell_type": "code",
   "execution_count": 133,
   "metadata": {},
   "outputs": [],
   "source": [
    "class MyDataset(Dataset):\n",
    "    def __init__(self, data_path):\n",
    "        self.data_path = data_path\n",
    "        self.data_files = sorted(os.listdir(self.data_path))\n",
    "\n",
    "    def __len__(self):\n",
    "        return len(self.data_files)\n",
    "\n",
    "    \"\"\"\n",
    "    `__getitem__` 方法会在每次加载一个数据时被调用，\n",
    "    它会从指定路径中读取 `.npy` 文件，并将其转换为一个 PyTorch 张量。\n",
    "    然后，使用 PyTorch 提供的 `DataLoader` 类，将数据划分为批次进行训练。\n",
    "    \"\"\"\n",
    "    def __getitem__(self, index):\n",
    "        # Load data from file\n",
    "        data = np.load(os.path.join(self.data_path, self.data_files[index]))\n",
    "        data = data[0:4]\n",
    "        # Convert to tensor\n",
    "        data = torch.from_numpy(data).float()\n",
    "        return data"
   ]
  },
  {
   "cell_type": "code",
   "execution_count": 134,
   "metadata": {},
   "outputs": [],
   "source": [
    "def load_data(data_path, batch_size):\n",
    "    # Create data loader\n",
    "    dataset = MyDataset(data_path)\n",
    "    data_loader = DataLoader(dataset, batch_size=batch_size, shuffle=True)\n",
    "\n",
    "    return data_loader"
   ]
  },
  {
   "cell_type": "code",
   "execution_count": 135,
   "metadata": {},
   "outputs": [
    {
     "data": {
      "text/plain": [
       "'\\n根据 U-Net 的结构定义了一个包含输入通道数为 4、输出通道数为 1 的 `UNet` 模型\\n并使用 Adam 优化器对其进行训练\\n在训练和测试函数中，我们只需要将 U-Net 的输出 `sigma` 送入损失函数 `custom_loss` 中即可。\\n'"
      ]
     },
     "execution_count": 135,
     "metadata": {},
     "output_type": "execute_result"
    }
   ],
   "source": [
    "\"\"\"\n",
    "根据 U-Net 的结构定义了一个包含输入通道数为 4、输出通道数为 1 的 `UNet` 模型\n",
    "并使用 Adam 优化器对其进行训练\n",
    "在训练和测试函数中，我们只需要将 U-Net 的输出 `sigma` 送入损失函数 `custom_loss` 中即可。\n",
    "\"\"\""
   ]
  },
  {
   "cell_type": "code",
   "execution_count": 136,
   "metadata": {},
   "outputs": [],
   "source": [
    "# 用于实现两个卷积层和一个批归一化层的组合\n",
    "class DoubleConv(nn.Module):\n",
    "    def __init__(self, in_channels, out_channels):\n",
    "        super(DoubleConv, self).__init__()\n",
    "        self.conv = nn.Sequential(\n",
    "            nn.Conv2d(in_channels, out_channels, kernel_size=3, padding=1),\n",
    "            nn.BatchNorm2d(out_channels),\n",
    "            nn.ReLU(inplace=True),\n",
    "            nn.Conv2d(out_channels, out_channels, kernel_size=3, padding=1),\n",
    "            nn.BatchNorm2d(out_channels),\n",
    "            nn.ReLU(inplace=True)\n",
    "        )\n",
    "\n",
    "    def forward(self, x):\n",
    "        return self.conv(x)"
   ]
  },
  {
   "cell_type": "code",
   "execution_count": 137,
   "metadata": {},
   "outputs": [],
   "source": [
    "class Down(nn.Module):\n",
    "    def __init__(self, in_channels, out_channels):\n",
    "        super(Down, self).__init__()\n",
    "        self.mpconv = nn.Sequential(\n",
    "            nn.MaxPool2d(2),\n",
    "            DoubleConv(in_channels, out_channels)\n",
    "        )\n",
    "\n",
    "    def forward(self, x):\n",
    "        return self.mpconv(x)"
   ]
  },
  {
   "cell_type": "code",
   "execution_count": 138,
   "metadata": {},
   "outputs": [],
   "source": [
    "# 解码器由四个上采样模块 `Up` 组成，每个上采样模块包含一个上采样层和两个卷积层\n",
    "class Up(nn.Module):\n",
    "    def __init__(self, in_channels, out_channels, bilinear=True):\n",
    "        super(Up, self).__init__()\n",
    "\n",
    "        if bilinear:\n",
    "            self.up = nn.Upsample(scale_factor=2, mode='bilinear', align_corners=True)\n",
    "        else:\n",
    "            self.up = nn.ConvTranspose2d(in_channels//2, in_channels//2, kernel_size=2, stride=2)\n",
    "\n",
    "        self.conv = DoubleConv(in_channels, out_channels)\n",
    "\n",
    "    def forward(self, x1, x2):\n",
    "        x1 = self.up(x1)\n",
    "\n",
    "        # pad x1 to match x2 size\n",
    "        diff_h = x2.size()[2] - x1.size()[2]\n",
    "        diff_w = x2.size()[3] - x1.size()[3]\n",
    "        x1 = F.pad(x1, [diff_w//2, diff_w-diff_w//2, diff_h//2, diff_h-diff_h//2])\n",
    "\n",
    "        x = torch.cat([x2, x1], dim=1)\n",
    "        return self.conv(x)"
   ]
  },
  {
   "cell_type": "code",
   "execution_count": 139,
   "metadata": {},
   "outputs": [],
   "source": [
    "\"\"\"\n",
    "在 `UNet` 类的 `forward` 方法中\n",
    "首先将输入数据 `x` 送入编码器中，然后将编码器的输出 `x5` 送入解码器中。\n",
    "在解码器中，我们将 `x5` 与编码器中的输出 `x4`、`x3`、`x2`、`x1` 依次进行拼接，\n",
    "并送入对应的上采样模块中进行上采样和卷积操作\n",
    "最终输出一个概率分布中的sigma^2。\n",
    "\"\"\"\n",
    "class UNet(nn.Module):\n",
    "    def __init__(self, n_channels, n_classes):\n",
    "        super(UNet, self).__init__()\n",
    "\n",
    "        self.inc = DoubleConv(n_channels, 64)\n",
    "        self.down1 = Down(64, 128)\n",
    "        self.down2 = Down(128, 256)\n",
    "        self.down3 = Down(256, 512)\n",
    "        self.down4 = Down(512, 512)\n",
    "        self.up1 = Up(1024, 256)\n",
    "        self.up2 = Up(512, 128)\n",
    "        self.up3 = Up(256, 64)\n",
    "        self.up4 = Up(128, 64)\n",
    "        self.outc = nn.Conv2d(64, n_classes, kernel_size=1)\n",
    "\n",
    "    def forward(self, x):\n",
    "        x1 = self.inc(x)\n",
    "        x2 = self.down1(x1)\n",
    "        x3 = self.down2(x2)\n",
    "        x4 = self.down3(x3)\n",
    "        x5 = self.down4(x4)\n",
    "        x = self.up1(x5, x4)\n",
    "        x = self.up2(x, x3)\n",
    "        x = self.up3(x, x2)\n",
    "        x = self.up4(x, x1)\n",
    "        x = self.outc(x)\n",
    "        sigma = torch.sigmoid(x)\n",
    "        return sigma"
   ]
  },
  {
   "cell_type": "code",
   "execution_count": 140,
   "metadata": {},
   "outputs": [],
   "source": [
    "\"\"\"\n",
    "`sigma` 是模型输出的标准差，\n",
    "`v_t` 是目标值（即下一帧图像），\n",
    "`v` 是模型输出的预测值（即当前帧图像加上运动分量）\n",
    "在 `test` 函数中，需要计算模型在测试集上的损失。\n",
    "由于测试集中没有目标值 `v_t`，因此我们需要用当前帧图像 `x_t` 作为目标值进行计算。\n",
    "这样，公式中的 `v_t` 就是当前帧图像 `x_t`，而 `v` 则是模型在当前帧图像 `x_t` 上的预测值\n",
    "即模型输出的mu。\n",
    "\"\"\"\n",
    "# 定义损失函数\n",
    "def custom_loss(sigma, mu, v_t, v):\n",
    "    loss = -0.5 * torch.log(sigma ** 2) - 0.5 * (v_t - v) ** 2 / sigma ** 2\n",
    "    return loss.mean()"
   ]
  },
  {
   "cell_type": "code",
   "execution_count": 141,
   "metadata": {},
   "outputs": [],
   "source": [
    "\"\"\"\n",
    "在下面的的代码中，我们首先使用 `inputs[:, :3, :, :] + inputs[:, 3, :, :].unsqueeze(1)` \n",
    "得到模型在当前帧图像上的预测值 `v`。\n",
    "然后，我们将 `sigma`、`mu` 和 `v` 送入损失函数 `custom_loss` 中进行计算，\n",
    "得到模型在当前帧图像上的损失 `loss`。最后，我们将所有测试集上的损失相加并平均，得到模型在测试集上的平均损失。\n",
    "\"\"\"\n",
    "# 定义训练函数\n",
    "def train(net, optimizer, train_loader, device):\n",
    "    net.train()\n",
    "    running_loss = 0.0\n",
    "    for inputs in train_loader:\n",
    "        inputs = inputs.to(device)\n",
    "        optimizer.zero_grad()\n",
    "        sigma = net(inputs)\n",
    "        mu = inputs[:, :3, :, :] + inputs[:, 3, :, :].unsqueeze(1)\n",
    "        v_t = inputs[:, :3, :, :]\n",
    "        v = mu\n",
    "        loss = custom_loss(sigma, mu, v_t, v)\n",
    "        loss.backward()\n",
    "        optimizer.step()\n",
    "        running_loss += loss.item() * inputs.size(0)\n",
    "    epoch_loss = running_loss / len(train_loader.dataset)\n",
    "    return epoch_loss"
   ]
  },
  {
   "cell_type": "code",
   "execution_count": 142,
   "metadata": {},
   "outputs": [],
   "source": [
    "\"\"\"\n",
    "在 `test` 函数中先计算模型在当前帧图像上的输出 `mu`\n",
    "然后将其与当前帧图像 `x_t` 进行相加\n",
    "得到模型在当前帧图像上的预测值 `v`。这样，就可以使用公式计算模型在当前帧图像上的损失了\n",
    "\"\"\"\n",
    "# 定义测试函数\n",
    "def test(net, test_loader, device):\n",
    "    net.eval()\n",
    "    running_loss = 0.0\n",
    "    with torch.no_grad():\n",
    "        for inputs in test_loader:\n",
    "            inputs = inputs.to(device)\n",
    "            sigma = net(inputs)\n",
    "            mu = inputs[:, :3, :, :] + inputs[:, 3, :, :].unsqueeze(1)\n",
    "            v_t = inputs[:, :3, :, :]\n",
    "            v = mu\n",
    "            loss = custom_loss(sigma, mu, v_t, v)\n",
    "            running_loss += loss.item() * inputs.size(0)\n",
    "    epoch_loss = running_loss / len(test_loader.dataset)\n",
    "    return epoch_loss"
   ]
  },
  {
   "cell_type": "code",
   "execution_count": 143,
   "metadata": {},
   "outputs": [],
   "source": [
    "# 训练和测试模型\n",
    "def main():\n",
    "    # Set device\n",
    "    device = torch.device('cuda' if torch.cuda.is_available() else 'cpu')\n",
    "\n",
    "    # Set hyperparameters\n",
    "    lr = 0.0001\n",
    "    num_epochs = 10\n",
    "    batch_size = 4\n",
    "\n",
    "    # Load data\n",
    "    path = '/home/panding/code/UR/data-chair'\n",
    "    train_loader = load_data(path, batch_size)\n",
    "    test_loader = load_data(path, batch_size)\n",
    "\n",
    "    # Create model\n",
    "    net = UNet(n_channels=4, n_classes=1).to(device)\n",
    "\n",
    "    # Create optimizer\n",
    "    optimizer = optim.Adam(net.parameters(), lr=lr)\n",
    "\n",
    "    # Train model\n",
    "    for epoch in range(num_epochs):\n",
    "        \n",
    "        train_loss = train(net, optimizer, train_loader, device)\n",
    "        test_loss = test(net, test_loader, device)\n",
    "        \n",
    "        print(f'Epoch {epoch+1}/{num_epochs}: Train Loss: {train_loss:.4f}, Test Loss: {test_loss:.4f}')\n",
    "\n",
    "    # Save model\n",
    "    torch.save(net.state_dict(), 'model.pt')"
   ]
  },
  {
   "cell_type": "code",
   "execution_count": 144,
   "metadata": {},
   "outputs": [
    {
     "name": "stdout",
     "output_type": "stream",
     "text": [
      "Epoch 1/10: Train Loss: nan, Test Loss: nan\n",
      "Epoch 2/10: Train Loss: nan, Test Loss: nan\n"
     ]
    },
    {
     "ename": "KeyboardInterrupt",
     "evalue": "",
     "output_type": "error",
     "traceback": [
      "\u001b[0;31m---------------------------------------------------------------------------\u001b[0m",
      "\u001b[0;31mKeyboardInterrupt\u001b[0m                         Traceback (most recent call last)",
      "Cell \u001b[0;32mIn[144], line 1\u001b[0m\n\u001b[0;32m----> 1\u001b[0m main()\n",
      "Cell \u001b[0;32mIn[143], line 26\u001b[0m, in \u001b[0;36mmain\u001b[0;34m()\u001b[0m\n\u001b[1;32m     23\u001b[0m \u001b[39mfor\u001b[39;00m epoch \u001b[39min\u001b[39;00m \u001b[39mrange\u001b[39m(num_epochs):\n\u001b[1;32m     25\u001b[0m     train_loss \u001b[39m=\u001b[39m train(net, optimizer, train_loader, device)\n\u001b[0;32m---> 26\u001b[0m     test_loss \u001b[39m=\u001b[39m test(net, test_loader, device)\n\u001b[1;32m     28\u001b[0m     \u001b[39mprint\u001b[39m(\u001b[39mf\u001b[39m\u001b[39m'\u001b[39m\u001b[39mEpoch \u001b[39m\u001b[39m{\u001b[39;00mepoch\u001b[39m+\u001b[39m\u001b[39m1\u001b[39m\u001b[39m}\u001b[39;00m\u001b[39m/\u001b[39m\u001b[39m{\u001b[39;00mnum_epochs\u001b[39m}\u001b[39;00m\u001b[39m: Train Loss: \u001b[39m\u001b[39m{\u001b[39;00mtrain_loss\u001b[39m:\u001b[39;00m\u001b[39m.4f\u001b[39m\u001b[39m}\u001b[39;00m\u001b[39m, Test Loss: \u001b[39m\u001b[39m{\u001b[39;00mtest_loss\u001b[39m:\u001b[39;00m\u001b[39m.4f\u001b[39m\u001b[39m}\u001b[39;00m\u001b[39m'\u001b[39m)\n\u001b[1;32m     30\u001b[0m \u001b[39m# Save model\u001b[39;00m\n",
      "Cell \u001b[0;32mIn[142], line 18\u001b[0m, in \u001b[0;36mtest\u001b[0;34m(net, test_loader, device)\u001b[0m\n\u001b[1;32m     16\u001b[0m         v \u001b[39m=\u001b[39m mu\n\u001b[1;32m     17\u001b[0m         loss \u001b[39m=\u001b[39m custom_loss(sigma, mu, v_t, v)\n\u001b[0;32m---> 18\u001b[0m         running_loss \u001b[39m+\u001b[39m\u001b[39m=\u001b[39m loss\u001b[39m.\u001b[39;49mitem() \u001b[39m*\u001b[39m inputs\u001b[39m.\u001b[39msize(\u001b[39m0\u001b[39m)\n\u001b[1;32m     19\u001b[0m epoch_loss \u001b[39m=\u001b[39m running_loss \u001b[39m/\u001b[39m \u001b[39mlen\u001b[39m(test_loader\u001b[39m.\u001b[39mdataset)\n\u001b[1;32m     20\u001b[0m \u001b[39mreturn\u001b[39;00m epoch_loss\n",
      "\u001b[0;31mKeyboardInterrupt\u001b[0m: "
     ]
    }
   ],
   "source": [
    "\n",
    "main()"
   ]
  },
  {
   "cell_type": "code",
   "execution_count": null,
   "metadata": {},
   "outputs": [],
   "source": []
  }
 ],
 "metadata": {
  "kernelspec": {
   "display_name": "ur",
   "language": "python",
   "name": "python3"
  },
  "language_info": {
   "codemirror_mode": {
    "name": "ipython",
    "version": 3
   },
   "file_extension": ".py",
   "mimetype": "text/x-python",
   "name": "python",
   "nbconvert_exporter": "python",
   "pygments_lexer": "ipython3",
   "version": "3.11.3"
  },
  "orig_nbformat": 4
 },
 "nbformat": 4,
 "nbformat_minor": 2
}
