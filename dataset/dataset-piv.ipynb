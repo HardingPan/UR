{
 "cells": [
  {
   "cell_type": "code",
   "execution_count": 1,
   "metadata": {},
   "outputs": [],
   "source": [
    "import sys\n",
    "sys.path.append('core')\n",
    "\n",
    "import argparse\n",
    "import os\n",
    "import cv2\n",
    "import glob\n",
    "import numpy as np\n",
    "import torch\n",
    "from PIL import Image\n",
    "import matplotlib.pyplot as plt\n",
    "from torchvision import transforms\n",
    "import torch.nn.functional as F\n",
    "from torch.autograd import Variable\n",
    "\n",
    "from raft.raft import RAFT\n",
    "from raft.utils import flow_viz\n",
    "from raft.utils.utils import InputPadder"
   ]
  },
  {
   "cell_type": "code",
   "execution_count": 6,
   "metadata": {},
   "outputs": [],
   "source": [
    "transform_rgb = transforms.ToTensor()\n",
    "\n",
    "transform_gray = transforms.Compose([\n",
    "    transforms.Grayscale(num_output_channels=1), # 彩色图像转灰度图像num_output_channels默认1\n",
    "    transforms.ToTensor()\n",
    "])"
   ]
  },
  {
   "cell_type": "code",
   "execution_count": 2,
   "metadata": {},
   "outputs": [],
   "source": [
    "DEVICE = torch.device(\"cuda\" if torch.cuda.is_available() else \"cpu\")\n",
    "batch_size=3"
   ]
  },
  {
   "cell_type": "code",
   "execution_count": 3,
   "metadata": {},
   "outputs": [],
   "source": [
    "# rgb图片读取\n",
    "def load_image(imfile):\n",
    "    img = np.array(Image.open(imfile)).astype(np.uint8)\n",
    "    # img = np.array(Image.open(imfile))\n",
    "    img = torch.from_numpy(img).permute(2, 0, 1).float()\n",
    "    return img[None].to(DEVICE)"
   ]
  },
  {
   "cell_type": "code",
   "execution_count": 4,
   "metadata": {},
   "outputs": [],
   "source": [
    "# 图像可视化\n",
    "def viz(flo):\n",
    "    flo = flo[0].permute(1,2,0).cpu().numpy()\n",
    "    \n",
    "    # map flow to rgb image\n",
    "    flo = flow_viz.flow_to_image(flo)\n",
    "    # img_flo = np.concatenate([img, flo], axis=0)\n",
    " \n",
    "    # cv2.imshow('image', img_flo[:, :, [2,1,0]]/255.0)\n",
    "    # cv2.waitKey()\n",
    "    cv2.imwrite('res1.png', flo[:, :, [2,1,0]])"
   ]
  },
  {
   "cell_type": "code",
   "execution_count": 5,
   "metadata": {},
   "outputs": [],
   "source": [
    "# 读取flo为tensor\n",
    "def load_flow_to_numpy(path):\n",
    "    with open(path, 'rb') as f:\n",
    "        magic = np.fromfile(f, np.float32, count=1)\n",
    "        assert (202021.25 == magic), 'Magic number incorrect. Invalid .flo file'\n",
    "        h = np.fromfile(f, np.int32, count=1)[0]\n",
    "        w = np.fromfile(f, np.int32, count=1)[0]\n",
    "        data = np.fromfile(f, np.float32, count=2 * w * h)\n",
    "    data2D = np.resize(data, (w, h, 2))\n",
    "    data2D = data2D.transpose(2,0,1)\n",
    "    data2D_tensor = torch.from_numpy(data2D)\n",
    "    return data2D_tensor"
   ]
  },
  {
   "cell_type": "code",
   "execution_count": null,
   "metadata": {},
   "outputs": [],
   "source": [
    "def dataload(args):\n",
    "    model = torch.nn.DataParallel(RAFT(args))\n",
    "    model.load_state_dict(torch.load(args.model))\n",
    "\n",
    "    model = model.module\n",
    "    model.to(DEVICE)\n",
    "    model.eval()\n",
    "    \n",
    "    data_path = '/Users/panding/code/ur/data/uniform'\n",
    "    \n",
    "    with torch.no_grad():\n",
    "        # 读取路径内的成对图像和flow真值\n",
    "        images = glob.glob(os.path.join(args.path, '*.png')) + \\\n",
    "                 glob.glob(os.path.join(args.path, '*.jpg')) + \\\n",
    "                 glob.glob(os.path.join(args.path, '*.ppm'))\n",
    "        flow_truth = glob.glob(os.path.join(args.path, '*.flo'))\n",
    "        \n",
    "        images = sorted(images)\n",
    "        images_num = len(images)\n",
    "        images_loading_num = 1\n",
    "        print('\\n', '--------------images loading...-------------', '\\n')\n",
    "        for imfile1, imfile2 in zip(images[:-1], images[1:]):\n",
    "            \n",
    "            images_loading_num = images_loading_num + 1\n",
    "            # torch.Size([3, 436, 1024])\n",
    "            image1_rgb_tensor = load_image(imfile1)\n",
    "            image2_rgb_tensor = load_image(imfile2)\n",
    "            \n",
    "            \"\"\"\n",
    "            torch.Size([1, 3, 440, 1024])\n",
    "            这个pad操作会改变张量的尺寸, 后面灰度张量也需要pad一下才可以和光流张量拼接\n",
    "            \"\"\"\n",
    "            padder = InputPadder(image1_rgb_tensor.shape)\n",
    "            image1, image2 = padder.pad(image1_rgb_tensor, image2_rgb_tensor)\n",
    "            \n",
    "            # torch.Size([1, 2, 440, 1024])\n",
    "            flow_low, flow_up = model(image1, image2, iters=20, test_mode=True)\n",
    "            viz(flow_up)\n",
    "            # torch.Size([2, 440, 1024])\n",
    "            flow_up = torch.squeeze(flow_up)\n",
    "\n",
    "            flow_up_u, flow_up_v = flow_up.split(1, 0)\n",
    "            \n",
    "            # torch.Size([2, 436, 1024])\n",
    "            image1_gray_tensor = transform_gray(Image.open(imfile1)).to(DEVICE)\n",
    "            image2_gray_tensor = transform_gray(Image.open(imfile2)).to(DEVICE)\n",
    "            # torch.Size([2, 440, 1024])\n",
    "            image1_gray_tensor, image2_gray_tensor = padder.pad(image1_gray_tensor, image2_gray_tensor)\n",
    "\n",
    "            # image1_gray_tensor_remap = remap(image1_gray_tensor, flow_up_u, flow_up_v)\n",
    "            \n",
    "            # 读取flow的真值\n",
    "            flow_path = '/home/panding/code/UR/chair/' + imfile1[6:-8] + 'flow.flo'\n",
    "            flow_truth = load_flow_to_numpy(flow_path).to(DEVICE)\n",
    "\n",
    "            \"\"\"\n",
    "            torch.Size([6, 440, 1024])\n",
    "            六通道分别为 灰度后的i1, 灰度后的i2, u, v, u_t, v_t\n",
    "            \"\"\"\n",
    "            result = torch.cat((image2_gray_tensor, image1_gray_tensor, flow_up, flow_truth), 0)\n",
    "            result = result.cpu()\n",
    "            result_np = result.numpy()\n",
    "            data_path = data_path + '/' + imfile1[6:-4]\n",
    "            np.save(data_path, result_np)\n",
    "            data_path = '/home/panding/code/UR/data-chair'\n",
    "            if images_loading_num % 5 == 0:\n",
    "                print('\\n', '--------------images loaded: ', images_loading_num, ' / ', images_num, '-------------', '\\n')\n"
   ]
  }
 ],
 "metadata": {
  "kernelspec": {
   "display_name": "ur",
   "language": "python",
   "name": "python3"
  },
  "language_info": {
   "codemirror_mode": {
    "name": "ipython",
    "version": 3
   },
   "file_extension": ".py",
   "mimetype": "text/x-python",
   "name": "python",
   "nbconvert_exporter": "python",
   "pygments_lexer": "ipython3",
   "version": "3.11.3"
  },
  "orig_nbformat": 4
 },
 "nbformat": 4,
 "nbformat_minor": 2
}
